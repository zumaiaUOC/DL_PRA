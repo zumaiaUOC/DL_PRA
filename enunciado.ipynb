{
 "cells": [
  {
   "cell_type": "markdown",
   "id": "420c41ff",
   "metadata": {},
   "source": [
    "![](media/001.png)![](media/002.jpeg)\n",
    "\n",
    "**M2.875 Deep Learning**\n",
    "\n",
    "Práctica                    Autor: Oscar Rojo Martín\n",
    "\n",
    "# *Clasificador Neuronal para la detección de Glaucoma*\n",
    "\n",
    "<div style=\"page-break-after: always;\"></div>\n",
    "\n",
    "1.  Presentación\n",
    "\n",
    "El objetivo de esta práctica es aplicar los conocimientos adquiridos durante toda la asignatura en un caso clínico real. Para ello se dispondrá de una base de datos que contiene imágenes de ojos sanos y de otros afectados por glaucoma. El glaucoma es una patología que afecta al nervio óptico y cuyos orígenes son diversos, es la segunda causa de ceguera por detrás de la diabetes y los efectos en la pérdida de visión son irreversibles. Las causas que lo producen se pueden tratar si la patología es detectada a tiempo.\n",
    "\n",
    "El objetivo final de esta práctica es, mediante los conocimientos adquiridos, proponer y entrenar un algoritmo que sea capaz de detectar adecuadamente ojos con glaucoma frente a otros sanos.\n",
    "\n",
    "\n",
    "  \n",
    "1. Definición del problema\n",
    "\n",
    "Los algoritmos de reconocimiento de imágenes se están implementando en la práctica clínica, integrándose en ocasiones directamente en el hardware que se utiliza para la exploración (por ejemplo, en los ecógrafos). Este tipo de aproximación es lo que se propone en el siguiente artículo científico, el cual se utilizará como base para realizar esta práctica:\n",
    "\n",
    "- Diaz-Pinto, A., Morales, S., Naranjo, V. et al. *CNNs for automatic glaucoma assessment using fundus images: an extensive validation*. BioMed Eng OnLine 18, 29 (2019). <https://doi.org/10.1186/s12938-019-0649-y>\n",
    "\n",
    "En esta práctica se dispone de una serie de imágenes de casos reales. El objetivo es obtener un modelo eficaz para detectar de manera temprana esta patología, reduciendo, por lo tanto, el riesgo de ceguera.\n",
    "\n",
    "La base de datos está formada por imágenes en color de 224x224 píxeles y se ha dividido en 10 particiones distintas que se usarán para aplicar un método de *cross validation* con el objetivo de minimizar errores estadísticos. Cada una de estas particiones, a su vez, contiene tres subconjuntos: *train*, *test* y *valid*. Las imágenes a su vez están etiquetadas de dos formas: *normal* o *abnormal*.\n",
    "\n",
    "\n",
    "2. Función de evaluación\n",
    "\n",
    "La función de evaluación que se utilizará a lo largo de la práctica será el **F1-score**.\n",
    "\n",
    "6. Recursos\n",
    "\n",
    "El conjunto de los datos del proyecto se puede encontrar en la dirección:\n",
    "\n",
    "- <https://www.kaggle.com/datasets/jordidelatorreuoc/practica-dl-uoc-2022>\n",
    "\n"
   ]
  },
  {
   "cell_type": "markdown",
   "id": "712c2407",
   "metadata": {},
   "source": [
    "<div style=\"page-break-after: always;\"></div>"
   ]
  },
  {
   "cell_type": "markdown",
   "id": "d73c2280",
   "metadata": {},
   "source": [
    "---"
   ]
  },
  {
   "cell_type": "markdown",
   "id": "e2c79f1a",
   "metadata": {},
   "source": [
    "\n",
    "\n",
    "**Sección 1. Análisis Exploratorio de los datos (1,5 puntos)**\n",
    "\n",
    "Realizar un análisis exploratorio de los datos proporcionados, tanto en formato numérico como gráfico, donde se recoja la información relevante del conjunto de datos proporcionado.\n"
   ]
  },
  {
   "cell_type": "markdown",
   "id": "a7d981a4",
   "metadata": {},
   "source": [
    "\n",
    "**Sección 2. Entrenamiento de una red neuronal sobre una única partición (4 puntos)**\n",
    "\n",
    "En esta primera parte se hará un entrenamiento únicamente sobre el **fold0**. Esto nos permitirá obtener conclusiones preliminares en un plazo razonable de tiempo, antes de ejecutar un entrenamiento completo empleando *cross validation* (ver sección 3). Para ello se deben proponer y comparar 5 aproximaciones distintas:\n",
    "\n",
    "- Las 3 primeras configuraciones se deben implementar en un modelo basado en *EfficientNet B0*, preentrenado con los pesos de Imagenet, al que se le sustituye su capa de clasificación por: una capa de *GlobalAveragePolling2D*, una capa de *BatchNormalization*, una capa de *dropout* con probabilidad del 20%, y finalmente una capa *fully connected*.\n",
    "  - En la primera configuración se entrena el modelo congelando todas las capas menos las que se han añadido al final (**modelo 1**).\n",
    "  - En una segunda configuración, a partir de los pesos encontrados para el modelo 1, se entrena descongelando las últimas 20 capas, pero dejando las capas de *BatchNorm* congeladas (**modelo 2**).\n",
    "  - En la tercera configuración, a partir de los pesos del modelo 2, se descongelan todas las capas y se entrena la red en su totalidad (**modelo 3**).\n",
    "- Entrenar dos configuraciones, modelos o arquitecturas adicionales, que se pueden escoger libremente (**modelo 4** y **modelo 5**).\n",
    "\n",
    "En todos los casos, se debe indicar y justificar:\n",
    "\n",
    "- Elegir la época e hiperparámetros que mejor resultados hayan proporcionado sobre el conjunto de validación durante el entrenamiento.\n",
    "- Proporcionar y discutir los resultados sobre el conjunto de test.\n",
    "- Obtener la matriz de confusión, y discutir los resultados teniendo en cuenta los\n",
    "\n",
    "objetivos del problema.\n",
    "\n",
    "**Sección 3. Validación cruzada y discusión (3 puntos)**\n",
    "\n",
    "El objetivo de la técnica de *cross validation* es seleccionar qué modelo es más adecuado, intentando reducir los sesgos y variaciones estadísticas en función de cómo se ha realizado la partición. En los apartados anteriores se ha trabajado con una de las particiones (**fold0**) y se han estudiado 5 modelos distintos.\n",
    "\n",
    "En este caso, se debe:\n",
    "\n",
    "- Aplicar una técnica de *cross validation* sobre el mejor de los modelos definidos anteriormente. Los datos ya contienen 10 particiones distintas (de **fold0** a **fold9**), por lo que se debe entrenar el modelo escogido sobre los datos de *train* de cada una de las particiones, evaluarlas, eligiendo en cada caso el mejor modelo de validación.\n",
    "- Obtener el valor de **F1 score** de cada partición sobre el conjunto de test. De esta forma, se obtendrán 10 valores **F1 score** de test distintos.\n",
    "- Calcular el valor medio y la desviación estándar.\n",
    "\n",
    "Finalmente, fíjate en las matrices de *cross validation* que se han obtenido en la sección 2. El Glaucoma es una patología muy grave, por lo que es importante reducir los **falsos negativos (FN)** del modelo. ¿Qué estrategia seguirías para conseguir este propósito y qué penalizaciones podría tener esta decisión?\n",
    "\n",
    "**Sección 4. Análisis crítico (1,5 puntos)**\n",
    "\n",
    "Contesta, de forma razonada y justificada, a las siguientes preguntas:\n",
    "\n",
    "a) Para la realización de la práctica se han entregado las *folds* preparadas para el entrenamiento.\n",
    "\n",
    "i) Indicar qué estrategia de diseño hubieras seguido si las hubieras tenido que definir tú.\n",
    "\n",
    "ii) Indicar qué puntos son importantes en el diseño de estas particiones para que los modelos resultantes tengan una buena capacidad de generalización.\n",
    "\n",
    "b) Realizar un análisis crítico de los resultados obtenidos y las conclusiones a las que has llegado después de realizar esta práctica.\n"
   ]
  },
  {
   "cell_type": "markdown",
   "id": "199bcaf0",
   "metadata": {},
   "source": [
    "\n",
    "8. Entrega\n",
    "\n",
    "El entregable será un archivo comprimido en formato ZIP con los siguientes documentos:\n",
    "\n",
    "- **Informe en formato PDF** de entre 8 y 10 páginas de longitud, aproximadamente. No debe contener código (salvo mencionar alguna librería que sea importante indicar, o similar)\n",
    "- **Código fuente** completo de la práctica. El código usado para todas las etapas de la práctica debe estar correctamente comentado para facilitar su comprensión. Podéis utilizar archivos Python nativos (.py) o basados en Jupyter Notebook (en este caso se debe entregar la versión .ipynb, y la exportación en formato HTML).\n",
    "\n",
    "Para el **informe** se puede usar la siguiente guía:\n",
    "\n",
    "- Tamaño de letra 11 o 12\n",
    "- Fuente: Arial o similar\n",
    "- Interlineado sencillo\n",
    "- Las capturas de pantalla (por ejemplo, las gráficas de rendimiento) o los fragmentos de código (si se consideran relevantes) deben estar pensados para ilustrar y no para ser protagonistas.\n",
    "- Se valora el informe como conjunto y no una sucesión de resultados.\n"
   ]
  }
 ],
 "metadata": {
  "language_info": {
   "name": "python"
  }
 },
 "nbformat": 4,
 "nbformat_minor": 5
}
